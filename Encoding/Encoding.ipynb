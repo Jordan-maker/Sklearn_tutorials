{
 "cells": [
  {
   "cell_type": "code",
   "execution_count": null,
   "metadata": {
    "collapsed": true,
    "pycharm": {
     "name": "#%%\n"
    }
   },
   "outputs": [],
   "source": [
    "import pandas as pd\n",
    "from sklearn.preprocessing import OneHotEncoder, OrdinalEncoder"
   ]
  },
  {
   "cell_type": "code",
   "execution_count": null,
   "outputs": [],
   "source": [
    "data={'Name':['Eduard', 'Arnav', 'Sophia', 'Jordan'],\n",
    "      'Gender':['Male', 'Male', 'Female', 'Male'],\n",
    "      'Age':[23, 26, 19, 29],\n",
    "      'Degree':['Bachelors', 'Masters', 'High School', 'Doctoral']\n",
    "      }\n",
    "\n",
    "df = pd.DataFrame(data)\n",
    "df"
   ],
   "metadata": {
    "collapsed": false,
    "pycharm": {
     "name": "#%%\n"
    }
   }
  },
  {
   "cell_type": "code",
   "execution_count": null,
   "outputs": [],
   "source": [
    "# We will use OneHotEncoding for generating new columns such that no bias is induced.\n",
    "# Remember that Gender is a nominal attribute.\n",
    "\n",
    "df_Gender = pd.get_dummies(df[['Gender']], prefix=\"\", prefix_sep=\"\", dtype=int)\n",
    "df = pd.concat([df, df_Gender], axis=1)"
   ],
   "metadata": {
    "collapsed": false,
    "pycharm": {
     "name": "#%%\n"
    }
   }
  },
  {
   "cell_type": "code",
   "execution_count": null,
   "outputs": [],
   "source": [
    "df"
   ],
   "metadata": {
    "collapsed": false,
    "pycharm": {
     "name": "#%%\n"
    }
   }
  },
  {
   "cell_type": "code",
   "execution_count": null,
   "outputs": [],
   "source": [
    "# For Degree, we can replace the value with numerical values, which can be ordered,\n",
    "# For example, a 'Doctoral degree' is higher than 'Masters'.\n",
    "# This corresponds to an ordinal attribute.\n",
    "\n",
    "Encoder_Degree = OrdinalEncoder(categories=[['High School', 'Bachelors', 'Masters', 'Doctoral']], dtype=int)\n",
    "df[['Degree_Encoded']] = Encoder_Degree.fit_transform(df[['Degree']])"
   ],
   "metadata": {
    "collapsed": false,
    "pycharm": {
     "name": "#%%\n"
    }
   }
  },
  {
   "cell_type": "code",
   "execution_count": null,
   "outputs": [],
   "source": [
    "df"
   ],
   "metadata": {
    "collapsed": false,
    "pycharm": {
     "name": "#%%\n"
    }
   }
  },
  {
   "cell_type": "code",
   "execution_count": null,
   "outputs": [],
   "source": [
    "x = encoder_for_education.inverse_transform(df[['Degree_Encoded']])\n",
    "x"
   ],
   "metadata": {
    "collapsed": false,
    "pycharm": {
     "name": "#%%\n"
    }
   }
  }
 ],
 "metadata": {
  "kernelspec": {
   "display_name": "Python 3",
   "language": "python",
   "name": "python3"
  },
  "language_info": {
   "codemirror_mode": {
    "name": "ipython",
    "version": 2
   },
   "file_extension": ".py",
   "mimetype": "text/x-python",
   "name": "python",
   "nbconvert_exporter": "python",
   "pygments_lexer": "ipython2",
   "version": "2.7.6"
  }
 },
 "nbformat": 4,
 "nbformat_minor": 0
}